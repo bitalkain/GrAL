{
 "cells": [
  {
   "cell_type": "markdown",
   "metadata": {
    "colab_type": "text",
    "id": "hKwPoZf3zqSS"
   },
   "source": [
    "# Hauek ez exekutatu"
   ]
  },
  {
   "cell_type": "code",
   "execution_count": null,
   "metadata": {
    "colab": {
     "base_uri": "https://localhost:8080/",
     "height": 173
    },
    "colab_type": "code",
    "executionInfo": {
     "elapsed": 5748,
     "status": "ok",
     "timestamp": 1589793247652,
     "user": {
      "displayName": "Bittor Alkain",
      "photoUrl": "",
      "userId": "06778993163287366029"
     },
     "user_tz": -120
    },
    "id": "KeD5VtR7kS7W",
    "outputId": "a32c3ecf-bd6f-44a4-abef-8cceff0ad385"
   },
   "outputs": [
    {
     "name": "stdout",
     "output_type": "stream",
     "text": [
      "Processing ./itzuli-pkg-vicomtech-1.0.0.tar.gz\n",
      "Building wheels for collected packages: itzuli-pkg-vicomtech\n",
      "  Building wheel for itzuli-pkg-vicomtech (setup.py) ... \u001b[?25l\u001b[?25hdone\n",
      "  Created wheel for itzuli-pkg-vicomtech: filename=itzuli_pkg_vicomtech-1.0.0-cp36-none-any.whl size=2186 sha256=a1365655652dbafcbeca316a2b9ddb1988b8be37a3d0c5db4b4adbcda57c932d\n",
      "  Stored in directory: /root/.cache/pip/wheels/07/96/a4/ffc9a6e9107650e072862e1468d4bcb8e00adb00118e27df0f\n",
      "Successfully built itzuli-pkg-vicomtech\n",
      "Installing collected packages: itzuli-pkg-vicomtech\n",
      "Successfully installed itzuli-pkg-vicomtech-1.0.0\n"
     ]
    }
   ],
   "source": [
    "!pip install itzuli-pkg-vicomtech-1.0.0.tar.gz"
   ]
  },
  {
   "cell_type": "code",
   "execution_count": null,
   "metadata": {
    "colab": {
     "base_uri": "https://localhost:8080/",
     "height": 122
    },
    "colab_type": "code",
    "executionInfo": {
     "elapsed": 2907,
     "status": "ok",
     "timestamp": 1589794326540,
     "user": {
      "displayName": "Bittor Alkain",
      "photoUrl": "",
      "userId": "06778993163287366029"
     },
     "user_tz": -120
    },
    "id": "C95LyNiXGBbl",
    "outputId": "a097ddc4-bdc9-4d5e-c66a-c04dfd054620"
   },
   "outputs": [
    {
     "name": "stdout",
     "output_type": "stream",
     "text": [
      "Collecting https://github.com/Vicomtech/itzuli-api-lib\n",
      "\u001b[?25l  Downloading https://github.com/Vicomtech/itzuli-api-lib\n",
      "\u001b[K     | 112kB 6.3MB/s\n",
      "\u001b[31m  ERROR: Cannot unpack file /tmp/pip-unpack-p2v3r33y/itzuli-api-lib (downloaded from /tmp/pip-req-build-3x2mm981, content-type: text/html; charset=utf-8); cannot detect archive format\u001b[0m\n",
      "\u001b[31mERROR: Cannot determine archive format of /tmp/pip-req-build-3x2mm981\u001b[0m\n",
      "\u001b[?25h"
     ]
    }
   ],
   "source": [
    "!pip install https://github.com/Vicomtech/itzuli-api-lib"
   ]
  },
  {
   "cell_type": "markdown",
   "metadata": {
    "colab_type": "text",
    "id": "JwNJD_MqzucQ"
   },
   "source": [
    "# Hauek bai"
   ]
  },
  {
   "cell_type": "code",
   "execution_count": null,
   "metadata": {
    "colab": {},
    "colab_type": "code",
    "id": "YskVrgI1sRTr"
   },
   "outputs": [],
   "source": [
    "import itzuli"
   ]
  },
  {
   "cell_type": "code",
   "execution_count": null,
   "metadata": {
    "colab": {},
    "colab_type": "code",
    "id": "G6eiScf3u_wX"
   },
   "outputs": [],
   "source": [
    "# Gakoa kendu dut\n",
    "itzuliapi = itzuli.Itzuli('')"
   ]
  },
  {
   "cell_type": "code",
   "execution_count": null,
   "metadata": {
    "colab": {
     "base_uri": "https://localhost:8080/",
     "height": 173
    },
    "colab_type": "code",
    "executionInfo": {
     "elapsed": 3021,
     "status": "ok",
     "timestamp": 1590615629094,
     "user": {
      "displayName": "Bittor Alkain",
      "photoUrl": "",
      "userId": "06778993163287366029"
     },
     "user_tz": -120
    },
    "id": "o8bzoASqvFwJ",
    "outputId": "27213c6c-0d3c-48d3-c537-d2b0b5fa19f6"
   },
   "outputs": [
    {
     "data": {
      "text/plain": [
       "{'consumedquota': '101',\n",
       " 'disclaimer_en': 'Thanks for using Itzuli API | Powered by Vicomtech.org artificial intelligence technologies',\n",
       " 'disclaimer_eu': 'Eskerrik asko Itzuli APIa erabiltzeagatik | Vicomtech.org-eko inteligentzia artifizialeko teknologien eskutik',\n",
       " 'feedbackid': 'VCCTUB9hWyskG0',\n",
       " 'source_lang': 'eu',\n",
       " 'source_text': 'proba bat',\n",
       " 'target_lang': 'es',\n",
       " 'translated_text': 'Una prueba'}"
      ]
     },
     "execution_count": 16,
     "metadata": {
      "tags": []
     },
     "output_type": "execute_result"
    }
   ],
   "source": [
    "itzuliapi.getTranslation(\"proba bat\", \"eu\", \"es\")"
   ]
  },
  {
   "cell_type": "code",
   "execution_count": null,
   "metadata": {
    "colab": {
     "base_uri": "https://localhost:8080/",
     "height": 299
    },
    "colab_type": "code",
    "executionInfo": {
     "elapsed": 1442,
     "status": "error",
     "timestamp": 1590661921487,
     "user": {
      "displayName": "Bittor Alkain",
      "photoUrl": "",
      "userId": "06778993163287366029"
     },
     "user_tz": -120
    },
    "id": "0hYyeUf2F5_S",
    "outputId": "bb4826bb-7445-4dfa-bf4a-f3a161dd8111"
   },
   "outputs": [
    {
     "ename": "Exception",
     "evalue": "ignored",
     "output_type": "error",
     "traceback": [
      "\u001b[0;31m---------------------------------------------------------------------------\u001b[0m",
      "\u001b[0;31mException\u001b[0m                                 Traceback (most recent call last)",
      "\u001b[0;32m<ipython-input-19-4afae36ad413>\u001b[0m in \u001b[0;36m<module>\u001b[0;34m()\u001b[0m\n\u001b[1;32m      1\u001b[0m \u001b[0mstring\u001b[0m \u001b[0;34m=\u001b[0m \u001b[0;34m'Tiene recursos propios-exclamó Harthouse, fumando tranquilamente.'\u001b[0m\u001b[0;34m\u001b[0m\u001b[0;34m\u001b[0m\u001b[0m\n\u001b[0;32m----> 2\u001b[0;31m \u001b[0mitzuliapi\u001b[0m\u001b[0;34m.\u001b[0m\u001b[0mgetTranslation\u001b[0m\u001b[0;34m(\u001b[0m\u001b[0mstring\u001b[0m\u001b[0;34m,\u001b[0m \u001b[0;34m\"es\"\u001b[0m\u001b[0;34m,\u001b[0m \u001b[0;34m\"eu\"\u001b[0m\u001b[0;34m)\u001b[0m\u001b[0;34m\u001b[0m\u001b[0;34m\u001b[0m\u001b[0m\n\u001b[0m",
      "\u001b[0;32m/content/itzuli.py\u001b[0m in \u001b[0;36mgetTranslation\u001b[0;34m(self, text, fromlang, tolang)\u001b[0m\n\u001b[1;32m     23\u001b[0m             \u001b[0;32mreturn\u001b[0m\u001b[0;34m\u001b[0m\u001b[0;34m\u001b[0m\u001b[0m\n\u001b[1;32m     24\u001b[0m         \u001b[0;32melif\u001b[0m \u001b[0;34m(\u001b[0m\u001b[0mr\u001b[0m\u001b[0;34m.\u001b[0m\u001b[0mstatus_code\u001b[0m \u001b[0;34m!=\u001b[0m \u001b[0;36m200\u001b[0m\u001b[0;34m)\u001b[0m\u001b[0;34m:\u001b[0m\u001b[0;34m\u001b[0m\u001b[0;34m\u001b[0m\u001b[0m\n\u001b[0;32m---> 25\u001b[0;31m             \u001b[0;32mraise\u001b[0m \u001b[0mException\u001b[0m\u001b[0;34m(\u001b[0m\u001b[0;34m'Invalid status code: '\u001b[0m\u001b[0;34m+\u001b[0m\u001b[0mstr\u001b[0m\u001b[0;34m(\u001b[0m\u001b[0mr\u001b[0m\u001b[0;34m.\u001b[0m\u001b[0mstatus_code\u001b[0m\u001b[0;34m)\u001b[0m\u001b[0;34m)\u001b[0m\u001b[0;34m\u001b[0m\u001b[0;34m\u001b[0m\u001b[0m\n\u001b[0m\u001b[1;32m     26\u001b[0m             \u001b[0;32mreturn\u001b[0m\u001b[0;34m\u001b[0m\u001b[0;34m\u001b[0m\u001b[0m\n\u001b[1;32m     27\u001b[0m \u001b[0;34m\u001b[0m\u001b[0m\n",
      "\u001b[0;31mException\u001b[0m: Invalid status code: 400"
     ]
    }
   ],
   "source": [
    "string = 'Tiene recursos propios-exclamó Harthouse, fumando tranquilamente.'\n",
    "itzuliapi.getTranslation(string, \"es\", \"eu\")"
   ]
  },
  {
   "cell_type": "code",
   "execution_count": null,
   "metadata": {
    "colab": {
     "base_uri": "https://localhost:8080/",
     "height": 173
    },
    "colab_type": "code",
    "executionInfo": {
     "elapsed": 1507,
     "status": "ok",
     "timestamp": 1590665101677,
     "user": {
      "displayName": "Bittor Alkain",
      "photoUrl": "",
      "userId": "06778993163287366029"
     },
     "user_tz": -120
    },
    "id": "iLJ1vuAi-yJo",
    "outputId": "47e1bcaf-40b8-40eb-8717-c1517f464530"
   },
   "outputs": [
    {
     "data": {
      "text/plain": [
       "{'consumedquota': '2041',\n",
       " 'disclaimer_en': 'Thanks for using Itzuli API | Powered by Vicomtech.org artificial intelligence technologies',\n",
       " 'disclaimer_eu': 'Eskerrik asko Itzuli APIa erabiltzeagatik | Vicomtech.org-eko inteligentzia artifizialeko teknologien eskutik',\n",
       " 'feedbackid': 'XOEsKmtbiJ3qNQ',\n",
       " 'source_lang': 'es',\n",
       " 'source_text': '¿No os llamáis Otto los dos?',\n",
       " 'target_lang': 'eu',\n",
       " 'translated_text': 'Ez al duzue Otto biok deitzen?'}"
      ]
     },
     "execution_count": 26,
     "metadata": {
      "tags": []
     },
     "output_type": "execute_result"
    }
   ],
   "source": [
    "string = '¿No os llamáis Otto los dos?'\n",
    "itzuliapi.getTranslation(string, \"es\", \"eu\")"
   ]
  },
  {
   "cell_type": "code",
   "execution_count": null,
   "metadata": {
    "colab": {
     "base_uri": "https://localhost:8080/",
     "height": 34
    },
    "colab_type": "code",
    "executionInfo": {
     "elapsed": 2787,
     "status": "ok",
     "timestamp": 1590765253803,
     "user": {
      "displayName": "Bittor Alkain",
      "photoUrl": "",
      "userId": "06778993163287366029"
     },
     "user_tz": -120
    },
    "id": "S4PNq8C_1xT8",
    "outputId": "85f8cb27-4b50-4121-df9a-7b55c548033e"
   },
   "outputs": [
    {
     "name": "stdout",
     "output_type": "stream",
     "text": [
      "/content/drive/My Drive/Colab Notebooks\n"
     ]
    }
   ],
   "source": [
    "%cd '/content/drive/My Drive/Colab Notebooks'"
   ]
  },
  {
   "cell_type": "markdown",
   "metadata": {
    "colab_type": "text",
    "id": "E39MJNXdm0ES"
   },
   "source": [
    "## OS"
   ]
  },
  {
   "cell_type": "code",
   "execution_count": null,
   "metadata": {
    "colab": {},
    "colab_type": "code",
    "id": "CCiG_El6CyAI"
   },
   "outputs": [],
   "source": [
    "with open('OpenSubtitles/OS-val-es.txt') as f_es:\n",
    "    es = f_es.read().split('\\n')"
   ]
  },
  {
   "cell_type": "code",
   "execution_count": null,
   "metadata": {
    "colab": {
     "base_uri": "https://localhost:8080/",
     "height": 34
    },
    "colab_type": "code",
    "executionInfo": {
     "elapsed": 1153,
     "status": "ok",
     "timestamp": 1590657027798,
     "user": {
      "displayName": "Bittor Alkain",
      "photoUrl": "",
      "userId": "06778993163287366029"
     },
     "user_tz": -120
    },
    "id": "FF1rvvZpDSwB",
    "outputId": "57adba0a-693e-4244-d649-b0385346c115"
   },
   "outputs": [
    {
     "data": {
      "text/plain": [
       "['- Benjamin.', 'Tommy.', 'Ronaldo.', 'Clif...', 'Klaus.']"
      ]
     },
     "execution_count": 3,
     "metadata": {
      "tags": []
     },
     "output_type": "execute_result"
    }
   ],
   "source": [
    "es[0:5]"
   ]
  },
  {
   "cell_type": "code",
   "execution_count": null,
   "metadata": {
    "colab": {
     "base_uri": "https://localhost:8080/",
     "height": 1000
    },
    "colab_type": "code",
    "executionInfo": {
     "elapsed": 203051,
     "status": "ok",
     "timestamp": 1590618623653,
     "user": {
      "displayName": "Bittor Alkain",
      "photoUrl": "",
      "userId": "06778993163287366029"
     },
     "user_tz": -120
    },
    "id": "YXT1E37s0by9",
    "outputId": "eae628db-a213-429d-fee6-ef1d8ff0ce7b"
   },
   "outputs": [
    {
     "name": "stdout",
     "output_type": "stream",
     "text": [
      "882 Raskins andrearena.\n",
      "883 Nire hizkuntza hitz egiten du? Pixka bat.\n",
      "884 Bitxia da...\n",
      "885 Eta Jill hor zegoen jende honek garuna garbitu zizulako, ezta?\n",
      "886 Begiratu gaur.\n",
      "887 Ez du gelditu nahi.\n",
      "888 Smook, begira.\n",
      "889 Ahizpak ez dizkit bere patinak uzten.\n",
      "890 Garai hartako musikaririk onenak erabiltzen ari nintzen, rockarenak\n",
      "891 Zure inhalagailua sukaldean dago.\n",
      "892 Baina begiak jaisten ari zen neska zintzo batekin topo egiten nuenean... Lotsa sentitzen zuen.\n",
      "893 Ardoa. Ardoa nahi duzu?\n",
      "894 Aberatsez mozorrotu behar al da koadro bat saltzeko?\n",
      "895 - Ez, itxaron.\n",
      "896 Bederatzi urterekin zainak moztu nituen.\n",
      "897 Zaplazteko bat emango zenigula espero nuen, baina zuk ez zenuen egingo.\n",
      "898 Entzun egin behar didazu.\n",
      "899 Ezagutzen dut, baina ez bikote gisa.\n",
      "900 Kontroletarako sarrera nagusia plataforma horren atzean dago.\n",
      "901 Aita, lasai, dena ondo aterako da!\n",
      "902 \"Tipo honek nire sua elikatu dezake\".\n",
      "903 - Itxarongo dugu.\n",
      "904 Baina ez duzu lan egin behar?\n",
      "905 Um!\n",
      "906 - Zein indartsua naizen!\n",
      "907 Nolakoa da?\n",
      "908 - Maitasuna hil egiten da.\n",
      "909 Ez da hildako bat bakarrik.\n",
      "910 Nire begiak marroiak dira.\n",
      "911 Beste zerbait gertatzen bada, erotu egingo naiz.\n",
      "912 - Ba al dago hotelik Indian?\n",
      "913 Ez! Nire kontra!\n",
      "914 Emaztea eta semea han daude, aitarekin.\n",
      "915 - Zer adikzio mota?\n",
      "916 Oso ondo, orduan jarrai dezagun.\n",
      "917 Asko gustatzen zitzaion abestea.\n",
      "918 Dozena erdi hizkuntza hitz egiten ditu.\n",
      "919 Inkubatua izan den bat.\n",
      "920 Bateko ateak zabalik zeuden.\n",
      "921 Hi, ergel halakoa... Oraindik ez duzu nire oparia ireki.\n",
      "922 Erokeria da, baina funtzionatzen du.\n",
      "923 Oso ona da ohean.\n",
      "924 Nire familia hilko dute Bosnian.\n",
      "925 Ikusten dudanez, Texek ere ez daki.\n",
      "926 - Hori.\n",
      "927 Garagardoa erosten ari zinen, bi morroik jo zintuzten.\n",
      "928 Ez dago ezkonduta.\n",
      "929 McGregor jauna oso gogaikarria da zirkuluan esertzen denaz.\n",
      "930 Odol bera, buru bera. Dena da gauza bera.\n",
      "931 Zer nahi duzue nik egitea?\n",
      "932 Bihotza aztertzea bezala litzateke, baina bere funtzioei buruzko edozein ezagutza gutxietsiz.\n",
      "933 - Putakume hori harrapatu behar duzue.\n",
      "934 - Hori gustatzen zaizu, amona?\n",
      "935 Luzatu besoak pixka bat gehiago.\n",
      "936 Apuntatu teilatura!\n",
      "937 Ez ni iraindu!\n",
      "938 Ez dut oilasko madarikatu hori nahi.\n",
      "939 Chappie, ondo zaude?\n",
      "940 Jakin-mina duen jendea dago. Jendea haserre dago. Eta jende expatikoa dago.\n",
      "941 Nire babesa duzu.\n",
      "942 Zure ezpainek ez dute ni ukitzearekin amets egin?\n",
      "943 Jakin nahi dut nork iraun zuen bizirik.\n",
      "944 Ez dago hilda.\n",
      "945 40 mila florinen truke.\n",
      "946 Eta hala egiten dut, alaba maitea, zugatik, egunen batean ikusi arte ez ninduzun ikusiko,\n",
      "947 Ez dizut ezer egingo.\n",
      "948 Urteak daramatzat kaka hori esaten. Eta entzuten bazenuen, hilko zinela esan nahi zuen.\n",
      "949 Aplikazioa proposatu nion eta asko gustatu zitzaion, horregatik daukagu.\n",
      "950 Jauregian nago.\n",
      "951 Ezin dugu ezer egin une honetan.\n",
      "952 Medikuek diote etxera joan zaitezkeela.\n",
      "953 Zoaz pikutara, Saman.\n",
      "954 Zergatik ez...\n",
      "955 Zenbat behar duzu oraingoan?\n",
      "956 Oso mutil bitxia eta atsegina\n",
      "957 Zer tatuaje mota?\n",
      "958 - Non dago?\n",
      "959 Lurrean giza ofizialak daude.\n",
      "960 Arrazoiez ziur nago, Don, eta erreperkzioez ere ziur nago.\n",
      "961 Ohe berean oheratzen al dira?\n",
      "962 Berak nahiko lukeena da.\n",
      "963 Eta... t-t-t-t-to-tor... tu-tu-tu-tuga.\n",
      "964 Ez nekien nahi zenuenik...\n",
      "965 Erantzunik ez itxaroteko esan zuen.\n",
      "966 Ulertuko duzu nire lekua hartzen duzunean.\n",
      "967 Estatuak dio gnn rngnnnnnnnhlng akusatuek ('txakurra: do. gnhnfnip') herrialde honen iraultza bortitza eta inbasio armatua bilatzen zutela Gobernua boteretik kentzeko asmoarekin.\n",
      "968 Bizi sistema hori aldatzeko.\n",
      "969 - Swanek neskak bakarrik hartzen ditu.\n",
      "970 Ospa! Ospa!\n",
      "971 Eta gaueko ordu hauetan?\n",
      "972 Norbait arduratuko da horretaz.\n",
      "973 Urrundu zakila nire emaztearengandik!\n",
      "974 Jainko maitea. Jainkoarren! Kaixo.\n",
      "975 Nola hitz egiten duzu gure hizkuntzan?\n",
      "976 Ezpain gorrien gaineko musua birjintasunerako grina desesperatua da.\n",
      "977 Niri, behintzat, hori iruditu zait.\n",
      "978 Utzi.\n",
      "979 Los Angeles hiriko larrialdiak. Kaixo?\n",
      "980 - Haien leku berera.\n",
      "981 Ba al dago inor?\n",
      "982 - Zoragarria litzateke.\n",
      "983 Hebdenen topo egin dugu, ez genuen elkar ikusi bosgarrenetik.\n",
      "984 - Bernardek arazoak ditu.\n",
      "985 Deitu dezaket. Tratua egin.\n",
      "986 Inoiz galdetu badidazu nola bisita nezakeen... milaka leku aldi berean, orain badakizu.\n",
      "987 Zer gertatu zaizu?\n",
      "988 - Nor arraio dira?\n",
      "989 Eskerrik asko Air Lumierekin hegan egiteagatik.\n",
      "990 Eta bat niretzat.\n",
      "991 Nahiko ondo.\n",
      "992 Zer da?\n",
      "993 Harrapatu eta preso eremu batean sartu zuten.\n",
      "994 Baina barrutik erreta, presio orokorra areagotuz, nire beharra sutan zegoen.\n",
      "995 Ados?\n",
      "996 Eta bere aberastasuna?\n",
      "997 Jainkoarren, zaindu zure hizkuntza.\n",
      "998 Nire mutilak beti izan ditu arazoak horrekin. Beti.\n",
      "999 - Ezin didazu arrasto bat eman? Ez diot inori esango.\n"
     ]
    }
   ],
   "source": [
    "lehena = 882\n",
    "\n",
    "with open('OpenSubtitles/OS-val-itzuliapi.txt', 'a') as f_eu:\n",
    "    for ind, esaldia in enumerate(es[lehena:]):\n",
    "        itzulpena = itzuliapi.getTranslation(esaldia, \n",
    "                                             'es', 'eu')['translated_text']\n",
    "        print(lehena+ind, itzulpena)\n",
    "        f_eu.write(itzulpena + '\\n')"
   ]
  },
  {
   "cell_type": "code",
   "execution_count": null,
   "metadata": {
    "colab": {
     "base_uri": "https://localhost:8080/",
     "height": 54
    },
    "colab_type": "code",
    "executionInfo": {
     "elapsed": 689,
     "status": "ok",
     "timestamp": 1590657636829,
     "user": {
      "displayName": "Bittor Alkain",
      "photoUrl": "",
      "userId": "06778993163287366029"
     },
     "user_tz": -120
    },
    "id": "n3kdsfxe1tII",
    "outputId": "16849223-f4e5-4cb9-e43e-dd4f4ed86cb2"
   },
   "outputs": [
    {
     "data": {
      "text/plain": [
       "'Erandosmillaspor encimadeél y sus cargadores, escaladaenla zonadelamuerte, dondelafaltadeoxígeno haceimposible funcionar por mucho tiempo.'"
      ]
     },
     "execution_count": 10,
     "metadata": {
      "tags": []
     },
     "output_type": "execute_result"
    }
   ],
   "source": [
    "es[881]"
   ]
  },
  {
   "cell_type": "code",
   "execution_count": null,
   "metadata": {
    "colab": {},
    "colab_type": "code",
    "id": "CFS_IccuFt3k"
   },
   "outputs": [],
   "source": [
    "# Arazoak: 80, 87, 314, 488, 626, 777, 881\n",
    "\n",
    "# Erroreak: 400, 502"
   ]
  },
  {
   "cell_type": "code",
   "execution_count": null,
   "metadata": {
    "colab": {},
    "colab_type": "code",
    "id": "9pl_WfpoNviv"
   },
   "outputs": [],
   "source": [
    "# Trolleko, 'ez eranzteko esan ziguten' val, Soyuz uno-cuatro, 'Nire hizkuntza hitz egiten du?'\n",
    "# tu-tu-tuga, 'era una niña tonta', 'adoptatuko dugu/ditugu', 'haren beharra zuen/nire beharra sutan zegoen'\n",
    "# 'Bien... se habrán dado cuenta de que aún no estamos en casa.', 'No puede tener un animal...'"
   ]
  },
  {
   "cell_type": "markdown",
   "metadata": {
    "colab_type": "text",
    "id": "Sgqxuz_N-Q4l"
   },
   "source": []
  },
  {
   "cell_type": "markdown",
   "metadata": {
    "colab_type": "text",
    "id": "kRWzqqWHm3_O"
   },
   "source": [
    "## HAC"
   ]
  },
  {
   "cell_type": "code",
   "execution_count": null,
   "metadata": {
    "colab": {},
    "colab_type": "code",
    "id": "C1tlPDaMm5ld"
   },
   "outputs": [],
   "source": [
    "with open('EhuHac/EhuHac-val-es.txt') as f_es:\n",
    "    es = f_es.read().split('\\n')"
   ]
  },
  {
   "cell_type": "code",
   "execution_count": null,
   "metadata": {
    "colab": {
     "base_uri": "https://localhost:8080/",
     "height": 119
    },
    "colab_type": "code",
    "executionInfo": {
     "elapsed": 549,
     "status": "ok",
     "timestamp": 1590658112992,
     "user": {
      "displayName": "Bittor Alkain",
      "photoUrl": "",
      "userId": "06778993163287366029"
     },
     "user_tz": -120
    },
    "id": "HL_BfYs5nIaj",
    "outputId": "9d3bbc68-7e97-4380-e8d1-a5bbde061b63"
   },
   "outputs": [
    {
     "data": {
      "text/plain": [
       "['Impius haec tam culta novalia miles habebit!',\n",
       " '\"Su amigo.\"',\n",
       " 'Pero es demasiado tarde:',\n",
       " 'Pero, ¿qué era aquello?',\n",
       " 'Rosanna Spearman\".',\n",
       " '¿No es extraño?']"
      ]
     },
     "execution_count": 5,
     "metadata": {
      "tags": []
     },
     "output_type": "execute_result"
    }
   ],
   "source": [
    "es[0:6]"
   ]
  },
  {
   "cell_type": "code",
   "execution_count": null,
   "metadata": {
    "colab": {
     "base_uri": "https://localhost:8080/",
     "height": 1000
    },
    "colab_type": "code",
    "executionInfo": {
     "elapsed": 112668,
     "status": "ok",
     "timestamp": 1590659848097,
     "user": {
      "displayName": "Bittor Alkain",
      "photoUrl": "",
      "userId": "06778993163287366029"
     },
     "user_tz": -120
    },
    "id": "BIP7mnPnnJtj",
    "outputId": "4440453c-523b-4ef8-8f78-b9c24aaabbc0"
   },
   "outputs": [
    {
     "name": "stdout",
     "output_type": "stream",
     "text": [
      "891 Parman ohore handia da, eta gortean lagunkideak zuen mailaren oso gainetik dago.\n",
      "892 Oso ondo ezarritako kasu batzuk ezagutzen ditut.\n",
      "893 Erlijio berri bat hedatu dadin, komeni da seme-alabei independentzia ematea, erlijio zaharrari atxikimendua sentitu behar baitute.\n",
      "894 Gaingizona izan dadila lurraren zentzua!\n",
      "895 Ez al duzue Otto biok deitzen?\n",
      "896 Uste izaten da Estatu Batuetako biztanleriaren hazkunde harrigarria independentziatik bakarrik datorrela;\n",
      "897 Ahal bezala dibertitzen zara, irteteko aukerak urriak direnean, diru faltagatik, eta are urriagoak zeure baitatik irteteko eta larrua jotzeko aukerak.\n",
      "898 Deigarria egin zait gure teilatuan norbait udalerriko usoak ehizatzen aritzea.\n",
      "899 \"Ikusten duzunez, hain kasu gutxi egiten diet zure sentimenduei, non esan edo esperimentatu dezakezun guztiak batere ardurarik gabe nauka. \"Lehenago ere asko hitz egiten zidan bere kontuez, baina inoiz ez konfiantza osoz.\n",
      "900 - Utz ezazu, ene lehengusina maitea, uste izan dezazun zure arbuioa ahokoa besterik ez dela izan.\n",
      "901 Grazia izan zuen, nik oihu ere ez nuelako egiten.\n",
      "902 - Tribunoak esango dizu:\n",
      "903 Bere bizi-luzetasunak kalkulu luze baten itxura ematen zuen, itxaronaldiaren modu setati batean.\n",
      "904 Czentovic ez zen mugitu.\n",
      "905 Hutsuneek eta sofisteriek horren itxura izango dute, badakit.\n",
      "906 - Pozten naiz zure bikainei bere etxean ongietorria emateaz.\n",
      "907 - Han lurreratu ginen.\n",
      "908 Pentsatu zuen, Trevanny serioski kezkatuta bazegoen, beti deitu ahal izango ziola.\n",
      "909 Spaderen bekokian benilla bifidoa puzten hasi zen.\n",
      "910 Azken begiradaz apelatu zuen, eta azkenean zorigaiztoko hitzak bota zituen:\n",
      "911 Zergatik ez diozu hitz batzuk esaten nire alde, eta esaten dizu esajeratu egin behar duela, uste duenean, agur bakar batez, perjudikoa dela?\n",
      "912 \"Baina, ondo entzuten al didazu?\", joaten zen eta galdetzen zion.\n",
      "913 Poliziak baino gutxiago dakit, eta ia ziurra da ez dutela haren aurkako froga nahikorik bera atxilotzeko, aurkituko balute ere.\n",
      "914 Orduan emaztearen bila itzuli zen.\n",
      "915 Ubide bat ireki zuen, edo urmaelean sartu zuen ura, garai hartan zingira bihurtua zegoena, honela ibaiaren korrontea desbideratzea eta ama noraezean ibiltzea lortuz.\n",
      "916 Goragalea, Mr. Marchbanks?\n",
      "917 \"Ez ihes egin, e!\" Esaten zuten orain haien txistu beti ahaltsuek, baina, bitartean, nolabait maitagarri bihurtu ziren, ia admonitorioak.\n",
      "918 Emmak, isilik, gurpilak biratzeari begiratzen zion.\n",
      "919 Uste dut gehiegi mimatu delako bizi dela leku honetan etengabe; erosotasuna eta erosotasuna maite dituela, eta gainerakoa axolagabe samarra zaiola.\n",
      "920 Arrazoibide jauzirik apartekoenekin, nire hitz berriaren esanahian sakontzen hasi nintzen.\n",
      "921 1058b) Bata adigaia denez, eta bestea materia, adigaian dauden kontrakotasunek ezberdintasun espezifikoa sortzen dute, baina materia osatuan daudenek ez dute sortzen.\n",
      "922 Harrituta geratu zen, bere kontzientziak engainatu ahal izan zuelako.\n",
      "923 Hamabi legoa egin zituen lauhazkan, bere hondeamakinekin bi ordu pasatzeko.\n",
      "924 Ahul zegoen.\n",
      "925 \"Ene haurrak, nitaz barre egin dezakezue; ez da ederra izango kanonen arabera, baina asko gustatzen zait bere forma zahar eta arraro hori.\n",
      "926 Emakumeak hurbildu zirenean, zutitu eta isilik agurtu zituen.\n",
      "927 - Lehen eliza anabaptistako kidea-esan zuen Jacksonek.\n",
      "928 Eskumuturreko lanak astean sei denario besterik ez zien ematen, eta horrek ez du esan nahi bi arrano-mirari baino gehiago.\n",
      "929 - Esan zuen Spadek emeki eta anbiguoki.\n",
      "930 Harrituta zegoen: hoteleko atea zeharkatu bezain laster, bete-betean aurkitu zen Kariben.\n",
      "931 Ilea moztu eta kizkurtu zuen, eta bere larruzko beroki grisarekin luxuzko objektu bat zirudien.\n",
      "932 - Gu hirurok komisionatu gaituzte kopek bat atxikitzeko erabakiari buruz zu itzul zaitezen eskatzeko...\n",
      "933 Baina ez zuten kontuan hartu burbuilak ardoan eragindako hedapena, eta puztuta sentitzean, itsasontziko upategian errodatzen hasi ziren, edari zoragarri hura tagati (sorginduta) zegoela oihukatuz.\n",
      "934 Barneko-den ez-organikoa barneko sinple bat da, hautemapenari baden propietate gisa eskaintzen zaiona;\n",
      "935 - Xuxurlatu zuen Shamlegheko jendeak.\n",
      "936 Inoiz ez zuen halako xalotasunik ikusi bere portaeretan, eta inoiz ez zion halako adeitasunez hitz egiten entzun.\n",
      "937 Erantzun hori liburuan bertan eman da, logika transzendentalean, baina hemen, Prolegomenoetan, oinarrizko bigarren gaiaren konponbidearen bidean eskaini da.\n",
      "938 Maite zuela esan zuen.\n",
      "939 Eta, bat-batean, kontu guztia guztiz bestelako argitan azaldu zitzaion.\n",
      "940 Merkatariek 40 graduko latitudean zehar egiten zuten bidaia, Txinako mendebaldeko herrialdeak zeharkatuz, garai hartan zibilizatuagoak, tatariarrek oraindik inbaditu ez zituztelako.\n",
      "941 - Carson-aitortu zuen Castlek.\n",
      "942 Beste modua, hau da, batzuei eta besteei bere indar guztiekin ematea, are gutxiago dago zuhurtziaren menpe kontzientziaren mende baino.\n",
      "943 Tiberiok, bere judizioaren inpartzialtasuna frogatzeko, gaztea adeitasunez hartzen du, eta familia nobleen seme-alabekiko ohizko eskuzabaltasunez goratzen du.\n",
      "944 Eta zeru hartan zerbait bizia bezala gailentzen zitzaion, mehatxatzen zuen, iseka egiten zion.\n",
      "945 Okerrago egiten dena ez al da izango zerbait hobetik abiatuta, eta bidezkoago egiten bada, bidegabeenetik?\n",
      "946 Irensteko makina asko badauzka ere, ez luke Calaisen geratzea irentsiko tsarrak Parisen salbu eta osasuntsu paseatzen duen bitartean.\n",
      "947 Esango dut, hala ere, karistiarrek ez zutela lortu tximista ez harrapatzea, baina parioak, Temistozies opariz eta diruz baretu ondoren, armadaren lekuetatik libratu ziren.\n",
      "948 Zerbaitek egia izan behar zuen...\n",
      "949 Eta brontzezko itxura distiratsu bat ikusi nuen, inguruan su bat bezala, bere aldaken aldetik gorantz, eta bere aldaketatik beherantz, sua ematen zuela eta inguruan distira bat zuela ikusi nuen.\n",
      "950 Horixe da nik eternitatea deitzen dudana.\n",
      "951 Wildek, barrutiko fiskalak, bisita egin zion.\n",
      "952 Baziren Augusto jainkozkoak utzitako dirua eskatu zutenak ere, Germanikoren aldeko iragarpenekin.\n",
      "953 Etenaldi labur baten ondoren, igeltseroak ingurura begiratu zuen, baina horrelakoetan gertatu ohi den bezala, inor ez zegoen prestatuta, denak harrituta zeuden, harik eta ofizial gazte eta adoretsu batek abiatu eta esan zuen arte:\n",
      "954 (Zain) odoletan dago!\n",
      "955 Beti eta haren bidez bakarrik pentsatzen dut nire pentsamendu bakoitza.\n",
      "956 Parkeko bazter batetik igaro nintzen, non haurrentzako jolasak baitzeuden, eta haur pare bati begira gelditu nintzen, kulunkan.\n",
      "957 Dirudienez, legegileengandik urruntzen diren legeak haien araberakoak izan ohi dira.\n",
      "958 Beira-garbigailu bikoitzak leunki kulunkatzen ziren beiraren gainean.\n",
      "959 (Gora begirada.\n",
      "960 Antzeko kausetatik sortu dira \"gizakia\", \"Zaldia\", \"Txakurra\" eta antzeko nozio unibertsalak ere:\n",
      "961 \"Mr. Gradgrind\" esan zuen Mrs. Gradgrindek intzirika eta txala estutuz zeremonia maitagarriaren ondoren.\n",
      "962 Hau da...\n",
      "963 Izan ere, hedadurarik gabeko substantziatzat edo materia zabal pentsatzailetzat hartzen duen edozein modutan, bi kasu horietako edozein bururatzeko zailtasunak, gogamenean pentsamendu horietako bat besterik ez duen bitartean, kontrako suposiziorantz eramango du, eta hori zenbait gizakik jarraitzen duten bide okerra da, zeinek, hipotesi horietako bat aurkitzen duten pentsaezinaren ondorioz, kontrakoan bortizki erortzen baitira, nahiz eta hori hain ulergaitza izan. Ulermena, edukirik gabe\n",
      "964 Harentzat, minutu bakoitzean galtzeko beldur zen segurtasun bat irudikatzen zuen.\n",
      "965 - Txakur-esan zuen Deweyk-. Berrikus ditzagun gertakariak.\n",
      "966 Gero erreguka begiratu zion printzeari.\n",
      "967 Françoise eta lorezaina, adiskidetuak, gerrarik izanez gero zer egin behar zen eztabaidatzen ari ziren.\n",
      "968 Manibela bati bira ematearekin maitasun gutun eder bat aterako litzateke, ezta?\n",
      "969 Hautematea desagertu egin da, eta hautemateak objektua bere baitan den bezala edo oro har orokor-den gisa hartzen du;\n",
      "970 Oso buru interesgarria da. Zoragarri xahutua eta higatua dago.\n",
      "971 Bere ile txigortua mehea eta uhindua zen, eta garai hartan baino motzagoa zeraman: pajean, mutur birakariak barrurantz.\n",
      "972 Aurreko eragozpen guztiak atzean utzi nahi zituen, orain axola zuen gauza bakarra urratsak aurrerantz bideratzea izango balitz bezala.\n",
      "973 - Zer moduz, marta jauna?\n",
      "974 Nahiago dut ilunabarrean murgildu, gauza bakar horri uko egin baino;\n",
      "975 Erramu berdea bezala hedatzen ari zen elbarria oso goratua ikusi nuen.\n",
      "976 - Nola piztuko dugu sua?\n",
      "977 Bizantziarrak ere, lehen bezala, meneko izatera ausartu ziren.\n",
      "978 - Galdetu zidan Ezra Jenningsek.\n",
      "979 Nik aldendu zintuztedan alegiazko kantu horietatik guztietatik, erakutsi nizuenean: \"Borondatea sortzaile bat da\".\n",
      "980 Alde guztietatik, eta gero eta gehiago, Estatuak bere kabuz zuzentzen ditu azken herritarrak ere, eta bera da arazo hutsalenetan ere gidatzen dituen bakarra '.\n",
      "981 Eta horixe egin zuen.\n",
      "982 Baina han hasten da nazkaren arriskua, edo agian txorakeriarena.\n",
      "983 Geldi egon zen. Elkarri begiratzen diogu.\n",
      "984 Gauza haiek ia mirariak zirela pentsatu zuen Pilonek.\n",
      "985 Han, espazio zabal irekiak oihanez eta zuhaitz handiez zipriztinduta ikusten ziren; lurraren maldak gorantz eraman zuen, espazio libreetarantz zihoala.\n",
      "986 Kempek hiru pauso azkar eman zituen aterantz, eta Gizon Ikusezina, hankak desagerturik, zutik jarri zen oihu eginez.\n",
      "987 - Azken aldian bulegoan arduragabekeriaren bat izan dela dirudi.\n",
      "988 Froga geologikoen arabera, bada arrazoirik pentsatzeko klase handi bakoitzaren barruan behe-organismoak behe-mailakoak baino arinago aldatzen direla, eta, beraz, aukera gehiago izango zutela asko hedatzeko eta oraindik ere ezaugarri espezifiko bera izateko.\n",
      "989 Brigidek urduri mugitu zituen sorbalda biluziak, baina isildu egin zen.\n",
      "990 Baina gertatzen da, azaldu berri dugunaren arabera, adimenek, nahiz eta sortzaileak hala erabakita desberdinak izan, bitarteko berdinak dituztela beren esku.\n",
      "991 Rabelaren nota zorrotzak ziren, kontraltoak eta baxuak, ahaztu gabe, noski, txirulak eta kobrea.\n",
      "992 Ia hautsa harrotzen zuen beste etxadi bat pauso handiz ibiltzean eta makilaz lurra jotzean.\n",
      "993 Behin eta berriro eta irtenbiderik gabe, arriskupean ez jartzera behartuta gaude (eta hori da seguruena iruditzen zaiguna) hitz egin gabe. Izan ere, gauden egoeran, gure argudioak ez azaltzeak gure salbazioa irudikatuko lukeelako damua sortuko luke.\n",
      "994 - Esan nizun gero ez nuela nahi...\n",
      "995 Ohe bat egin zioten gela komunean.\n",
      "996 Egileak aitortzen du hori izan zela indigenei esklabo egiten zien eskubidearen oinarri bakarra, tabakoa erretzeaz eta bizarra espainiarrera ez eramateaz gain.\n",
      "997 Jarri hormaren kontra.\n",
      "998 Desagertzearen amorrua besterik ez da.\n",
      "999 Irakurtzeari utzi zion. Gorroto niola sentitzen nuen.\n"
     ]
    }
   ],
   "source": [
    "lehena = 891\n",
    "\n",
    "with open('EhuHac/EhuHac-val-itzuliapi.txt', 'a') as f_eu:\n",
    "    for ind, esaldia in enumerate(es[lehena:]):\n",
    "        itzulpena = itzuliapi.getTranslation(esaldia, \n",
    "                                             'es', 'eu')['translated_text']\n",
    "        print(lehena+ind, itzulpena)\n",
    "        f_eu.write(itzulpena + '\\n')"
   ]
  },
  {
   "cell_type": "code",
   "execution_count": null,
   "metadata": {
    "colab": {
     "base_uri": "https://localhost:8080/",
     "height": 34
    },
    "colab_type": "code",
    "executionInfo": {
     "elapsed": 1048,
     "status": "ok",
     "timestamp": 1590660878238,
     "user": {
      "displayName": "Bittor Alkain",
      "photoUrl": "",
      "userId": "06778993163287366029"
     },
     "user_tz": -120
    },
    "id": "cESZmbMDnVED",
    "outputId": "a2b4e13d-05e3-4972-d2e0-34a5f0f0e05b"
   },
   "outputs": [
    {
     "data": {
      "text/plain": [
       "'Tiene recursos propios-exclamó Harthouse, fumando tranquilamente.'"
      ]
     },
     "execution_count": 18,
     "metadata": {
      "tags": []
     },
     "output_type": "execute_result"
    }
   ],
   "source": [
    "es[890]"
   ]
  },
  {
   "cell_type": "code",
   "execution_count": null,
   "metadata": {
    "colab": {},
    "colab_type": "code",
    "id": "5X7P45Bppc6V"
   },
   "outputs": [],
   "source": [
    "# Arazoak: 348, 422, 616, 890"
   ]
  },
  {
   "cell_type": "markdown",
   "metadata": {
    "colab_type": "text",
    "id": "JlcZnm560EQu"
   },
   "source": [
    "# Ebaluazioa"
   ]
  },
  {
   "cell_type": "code",
   "execution_count": null,
   "metadata": {
    "colab": {
     "base_uri": "https://localhost:8080/",
     "height": 122
    },
    "colab_type": "code",
    "executionInfo": {
     "elapsed": 6883,
     "status": "ok",
     "timestamp": 1590765117085,
     "user": {
      "displayName": "Bittor Alkain",
      "photoUrl": "",
      "userId": "06778993163287366029"
     },
     "user_tz": -120
    },
    "id": "t18TzbKr0HwU",
    "outputId": "42309cac-ddc8-4f0d-f324-31d824afe317"
   },
   "outputs": [
    {
     "name": "stdout",
     "output_type": "stream",
     "text": [
      "Collecting pyonmttok\n",
      "\u001b[?25l  Downloading https://files.pythonhosted.org/packages/42/2e/4f589ec5bcf916229bb7374e66e3824b97ae4c8c4ea28c404aed15be3c01/pyonmttok-1.18.4-cp36-cp36m-manylinux1_x86_64.whl (2.2MB)\n",
      "\u001b[K     |████████████████████████████████| 2.2MB 6.4MB/s \n",
      "\u001b[?25hInstalling collected packages: pyonmttok\n",
      "Successfully installed pyonmttok-1.18.4\n"
     ]
    }
   ],
   "source": [
    "!pip install pyonmttok"
   ]
  },
  {
   "cell_type": "code",
   "execution_count": null,
   "metadata": {
    "colab": {},
    "colab_type": "code",
    "id": "Df-sPxTy0UVb"
   },
   "outputs": [],
   "source": [
    "import pyonmttok\n",
    "import nltk"
   ]
  },
  {
   "cell_type": "code",
   "execution_count": null,
   "metadata": {
    "colab": {},
    "colab_type": "code",
    "id": "6FvsfObh0k9f"
   },
   "outputs": [],
   "source": [
    "tokenizer = pyonmttok.Tokenizer(\"conservative\")"
   ]
  },
  {
   "cell_type": "code",
   "execution_count": null,
   "metadata": {
    "colab": {},
    "colab_type": "code",
    "id": "x6nP2mX20rlS"
   },
   "outputs": [],
   "source": [
    "with open('EhuHac/EhuHac-val-tok-eu.txt') as f:\n",
    "    hac_erref = f.read().split('\\n')[:-1]"
   ]
  },
  {
   "cell_type": "code",
   "execution_count": null,
   "metadata": {
    "colab": {},
    "colab_type": "code",
    "id": "r9tiMAO_1NRB"
   },
   "outputs": [],
   "source": [
    "with open('EhuHac/EhuHac-val-itzuliapi.txt') as f:\n",
    "    hac_batua = f.read().split('\\n')"
   ]
  },
  {
   "cell_type": "code",
   "execution_count": null,
   "metadata": {
    "colab": {},
    "colab_type": "code",
    "id": "jSlQ8Tx71kKI"
   },
   "outputs": [],
   "source": [
    "hac_references = [[esaldia.split()] for esaldia in hac_erref]\n",
    "hac_candidates = [tokenizer.tokenize(esaldia)[0] for esaldia in hac_batua]"
   ]
  },
  {
   "cell_type": "code",
   "execution_count": null,
   "metadata": {
    "colab": {
     "base_uri": "https://localhost:8080/",
     "height": 34
    },
    "colab_type": "code",
    "executionInfo": {
     "elapsed": 827,
     "status": "ok",
     "timestamp": 1590765267982,
     "user": {
      "displayName": "Bittor Alkain",
      "photoUrl": "",
      "userId": "06778993163287366029"
     },
     "user_tz": -120
    },
    "id": "mcX879852H0U",
    "outputId": "80dab4b8-bd38-4519-805e-bb518553c654"
   },
   "outputs": [
    {
     "data": {
      "text/plain": [
       "14.556771815677813"
      ]
     },
     "execution_count": 12,
     "metadata": {
      "tags": []
     },
     "output_type": "execute_result"
    }
   ],
   "source": [
    "nltk.translate.bleu_score.corpus_bleu(hac_references, hac_candidates)*100"
   ]
  },
  {
   "cell_type": "code",
   "execution_count": null,
   "metadata": {
    "colab": {},
    "colab_type": "code",
    "id": "P4leVYt13wG2"
   },
   "outputs": [],
   "source": [
    "with open('OpenSubtitles/OS-val-tok-eu.txt') as f:\n",
    "    os_erref = f.read().split('\\n')[:-1]\n",
    "with open('OpenSubtitles/OS-val-itzuliapi.txt') as f:\n",
    "    os_batua = f.read().split('\\n')\n",
    "\n",
    "os_references = [[esaldia.split()] for esaldia in os_erref]\n",
    "os_candidates = [tokenizer.tokenize(esaldia)[0] for esaldia in os_batua]"
   ]
  },
  {
   "cell_type": "code",
   "execution_count": null,
   "metadata": {
    "colab": {
     "base_uri": "https://localhost:8080/",
     "height": 34
    },
    "colab_type": "code",
    "executionInfo": {
     "elapsed": 788,
     "status": "ok",
     "timestamp": 1590765276407,
     "user": {
      "displayName": "Bittor Alkain",
      "photoUrl": "",
      "userId": "06778993163287366029"
     },
     "user_tz": -120
    },
    "id": "7bpzhBJ54ZTo",
    "outputId": "3581b3cc-576c-43d7-a16c-f88f27d1ddda"
   },
   "outputs": [
    {
     "data": {
      "text/plain": [
       "29.398310517319832"
      ]
     },
     "execution_count": 14,
     "metadata": {
      "tags": []
     },
     "output_type": "execute_result"
    }
   ],
   "source": [
    "nltk.translate.bleu_score.corpus_bleu(os_references, os_candidates)*100"
   ]
  },
  {
   "cell_type": "code",
   "execution_count": null,
   "metadata": {
    "colab": {
     "base_uri": "https://localhost:8080/",
     "height": 34
    },
    "colab_type": "code",
    "executionInfo": {
     "elapsed": 708,
     "status": "ok",
     "timestamp": 1590765312768,
     "user": {
      "displayName": "Bittor Alkain",
      "photoUrl": "",
      "userId": "06778993163287366029"
     },
     "user_tz": -120
    },
    "id": "wMTAKiBw4dzI",
    "outputId": "44ea280e-7080-413e-8d4d-fed855caf4f7"
   },
   "outputs": [
    {
     "data": {
      "text/plain": [
       "17.976625499214048"
      ]
     },
     "execution_count": 15,
     "metadata": {
      "tags": []
     },
     "output_type": "execute_result"
    }
   ],
   "source": [
    "nltk.translate.bleu_score.corpus_bleu(hac_references+os_references, \n",
    "                                      hac_candidates+os_candidates)*100"
   ]
  },
  {
   "cell_type": "code",
   "execution_count": null,
   "metadata": {
    "colab": {},
    "colab_type": "code",
    "id": "_Uy_GZX3AFb4"
   },
   "outputs": [],
   "source": []
  }
 ],
 "metadata": {
  "colab": {
   "name": "Batua.eus probatzeko.ipynb",
   "provenance": []
  },
  "kernelspec": {
   "display_name": "Python 3",
   "language": "python",
   "name": "python3"
  },
  "language_info": {
   "codemirror_mode": {
    "name": "ipython",
    "version": 3
   },
   "file_extension": ".py",
   "mimetype": "text/x-python",
   "name": "python",
   "nbconvert_exporter": "python",
   "pygments_lexer": "ipython3",
   "version": "3.7.6"
  }
 },
 "nbformat": 4,
 "nbformat_minor": 1
}
